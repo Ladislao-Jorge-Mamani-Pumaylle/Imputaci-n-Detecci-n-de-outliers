{
  "nbformat": 4,
  "nbformat_minor": 0,
  "metadata": {
    "colab": {
      "provenance": []
    },
    "kernelspec": {
      "name": "python3",
      "display_name": "Python 3"
    },
    "language_info": {
      "name": "python"
    }
  },
  "cells": [
    {
      "cell_type": "markdown",
      "source": [
        "# **LADISLAO JORGE MAMANI PUMAYLLE**\n",
        "## En este proyecto se usaron la base de datos \"diabetes\" y \"Advertising\" los cuales lo encontramos en este repositorio."
      ],
      "metadata": {
        "id": "86jlMgKPPKel"
      }
    },
    {
      "cell_type": "code",
      "execution_count": 2,
      "metadata": {
        "colab": {
          "base_uri": "https://localhost:8080/",
          "height": 339
        },
        "id": "hp2RP1E-9U7C",
        "outputId": "d63696a4-9104-47c5-937e-9dd3f2d36f19"
      },
      "outputs": [
        {
          "output_type": "error",
          "ename": "FileNotFoundError",
          "evalue": "[Errno 2] No such file or directory: '/content/diabetes.csv'",
          "traceback": [
            "\u001b[0;31m---------------------------------------------------------------------------\u001b[0m",
            "\u001b[0;31mFileNotFoundError\u001b[0m                         Traceback (most recent call last)",
            "\u001b[0;32m<ipython-input-2-ffe75e290bb0>\u001b[0m in \u001b[0;36m<cell line: 2>\u001b[0;34m()\u001b[0m\n\u001b[1;32m      1\u001b[0m \u001b[0;32mimport\u001b[0m \u001b[0mpandas\u001b[0m \u001b[0;32mas\u001b[0m \u001b[0mpd\u001b[0m\u001b[0;34m\u001b[0m\u001b[0;34m\u001b[0m\u001b[0m\n\u001b[0;32m----> 2\u001b[0;31m \u001b[0mdata1\u001b[0m\u001b[0;34m=\u001b[0m\u001b[0mpd\u001b[0m\u001b[0;34m.\u001b[0m\u001b[0mread_csv\u001b[0m\u001b[0;34m(\u001b[0m\u001b[0;34m\"/content/diabetes.csv\"\u001b[0m\u001b[0;34m)\u001b[0m\u001b[0;34m\u001b[0m\u001b[0;34m\u001b[0m\u001b[0m\n\u001b[0m\u001b[1;32m      3\u001b[0m \u001b[0mdata1\u001b[0m\u001b[0;34m\u001b[0m\u001b[0;34m\u001b[0m\u001b[0m\n",
            "\u001b[0;32m/usr/local/lib/python3.10/dist-packages/pandas/io/parsers/readers.py\u001b[0m in \u001b[0;36mread_csv\u001b[0;34m(filepath_or_buffer, sep, delimiter, header, names, index_col, usecols, dtype, engine, converters, true_values, false_values, skipinitialspace, skiprows, skipfooter, nrows, na_values, keep_default_na, na_filter, verbose, skip_blank_lines, parse_dates, infer_datetime_format, keep_date_col, date_parser, date_format, dayfirst, cache_dates, iterator, chunksize, compression, thousands, decimal, lineterminator, quotechar, quoting, doublequote, escapechar, comment, encoding, encoding_errors, dialect, on_bad_lines, delim_whitespace, low_memory, memory_map, float_precision, storage_options, dtype_backend)\u001b[0m\n\u001b[1;32m    910\u001b[0m     \u001b[0mkwds\u001b[0m\u001b[0;34m.\u001b[0m\u001b[0mupdate\u001b[0m\u001b[0;34m(\u001b[0m\u001b[0mkwds_defaults\u001b[0m\u001b[0;34m)\u001b[0m\u001b[0;34m\u001b[0m\u001b[0;34m\u001b[0m\u001b[0m\n\u001b[1;32m    911\u001b[0m \u001b[0;34m\u001b[0m\u001b[0m\n\u001b[0;32m--> 912\u001b[0;31m     \u001b[0;32mreturn\u001b[0m \u001b[0m_read\u001b[0m\u001b[0;34m(\u001b[0m\u001b[0mfilepath_or_buffer\u001b[0m\u001b[0;34m,\u001b[0m \u001b[0mkwds\u001b[0m\u001b[0;34m)\u001b[0m\u001b[0;34m\u001b[0m\u001b[0;34m\u001b[0m\u001b[0m\n\u001b[0m\u001b[1;32m    913\u001b[0m \u001b[0;34m\u001b[0m\u001b[0m\n\u001b[1;32m    914\u001b[0m \u001b[0;34m\u001b[0m\u001b[0m\n",
            "\u001b[0;32m/usr/local/lib/python3.10/dist-packages/pandas/io/parsers/readers.py\u001b[0m in \u001b[0;36m_read\u001b[0;34m(filepath_or_buffer, kwds)\u001b[0m\n\u001b[1;32m    575\u001b[0m \u001b[0;34m\u001b[0m\u001b[0m\n\u001b[1;32m    576\u001b[0m     \u001b[0;31m# Create the parser.\u001b[0m\u001b[0;34m\u001b[0m\u001b[0;34m\u001b[0m\u001b[0m\n\u001b[0;32m--> 577\u001b[0;31m     \u001b[0mparser\u001b[0m \u001b[0;34m=\u001b[0m \u001b[0mTextFileReader\u001b[0m\u001b[0;34m(\u001b[0m\u001b[0mfilepath_or_buffer\u001b[0m\u001b[0;34m,\u001b[0m \u001b[0;34m**\u001b[0m\u001b[0mkwds\u001b[0m\u001b[0;34m)\u001b[0m\u001b[0;34m\u001b[0m\u001b[0;34m\u001b[0m\u001b[0m\n\u001b[0m\u001b[1;32m    578\u001b[0m \u001b[0;34m\u001b[0m\u001b[0m\n\u001b[1;32m    579\u001b[0m     \u001b[0;32mif\u001b[0m \u001b[0mchunksize\u001b[0m \u001b[0;32mor\u001b[0m \u001b[0miterator\u001b[0m\u001b[0;34m:\u001b[0m\u001b[0;34m\u001b[0m\u001b[0;34m\u001b[0m\u001b[0m\n",
            "\u001b[0;32m/usr/local/lib/python3.10/dist-packages/pandas/io/parsers/readers.py\u001b[0m in \u001b[0;36m__init__\u001b[0;34m(self, f, engine, **kwds)\u001b[0m\n\u001b[1;32m   1405\u001b[0m \u001b[0;34m\u001b[0m\u001b[0m\n\u001b[1;32m   1406\u001b[0m         \u001b[0mself\u001b[0m\u001b[0;34m.\u001b[0m\u001b[0mhandles\u001b[0m\u001b[0;34m:\u001b[0m \u001b[0mIOHandles\u001b[0m \u001b[0;34m|\u001b[0m \u001b[0;32mNone\u001b[0m \u001b[0;34m=\u001b[0m \u001b[0;32mNone\u001b[0m\u001b[0;34m\u001b[0m\u001b[0;34m\u001b[0m\u001b[0m\n\u001b[0;32m-> 1407\u001b[0;31m         \u001b[0mself\u001b[0m\u001b[0;34m.\u001b[0m\u001b[0m_engine\u001b[0m \u001b[0;34m=\u001b[0m \u001b[0mself\u001b[0m\u001b[0;34m.\u001b[0m\u001b[0m_make_engine\u001b[0m\u001b[0;34m(\u001b[0m\u001b[0mf\u001b[0m\u001b[0;34m,\u001b[0m \u001b[0mself\u001b[0m\u001b[0;34m.\u001b[0m\u001b[0mengine\u001b[0m\u001b[0;34m)\u001b[0m\u001b[0;34m\u001b[0m\u001b[0;34m\u001b[0m\u001b[0m\n\u001b[0m\u001b[1;32m   1408\u001b[0m \u001b[0;34m\u001b[0m\u001b[0m\n\u001b[1;32m   1409\u001b[0m     \u001b[0;32mdef\u001b[0m \u001b[0mclose\u001b[0m\u001b[0;34m(\u001b[0m\u001b[0mself\u001b[0m\u001b[0;34m)\u001b[0m \u001b[0;34m->\u001b[0m \u001b[0;32mNone\u001b[0m\u001b[0;34m:\u001b[0m\u001b[0;34m\u001b[0m\u001b[0;34m\u001b[0m\u001b[0m\n",
            "\u001b[0;32m/usr/local/lib/python3.10/dist-packages/pandas/io/parsers/readers.py\u001b[0m in \u001b[0;36m_make_engine\u001b[0;34m(self, f, engine)\u001b[0m\n\u001b[1;32m   1659\u001b[0m                 \u001b[0;32mif\u001b[0m \u001b[0;34m\"b\"\u001b[0m \u001b[0;32mnot\u001b[0m \u001b[0;32min\u001b[0m \u001b[0mmode\u001b[0m\u001b[0;34m:\u001b[0m\u001b[0;34m\u001b[0m\u001b[0;34m\u001b[0m\u001b[0m\n\u001b[1;32m   1660\u001b[0m                     \u001b[0mmode\u001b[0m \u001b[0;34m+=\u001b[0m \u001b[0;34m\"b\"\u001b[0m\u001b[0;34m\u001b[0m\u001b[0;34m\u001b[0m\u001b[0m\n\u001b[0;32m-> 1661\u001b[0;31m             self.handles = get_handle(\n\u001b[0m\u001b[1;32m   1662\u001b[0m                 \u001b[0mf\u001b[0m\u001b[0;34m,\u001b[0m\u001b[0;34m\u001b[0m\u001b[0;34m\u001b[0m\u001b[0m\n\u001b[1;32m   1663\u001b[0m                 \u001b[0mmode\u001b[0m\u001b[0;34m,\u001b[0m\u001b[0;34m\u001b[0m\u001b[0;34m\u001b[0m\u001b[0m\n",
            "\u001b[0;32m/usr/local/lib/python3.10/dist-packages/pandas/io/common.py\u001b[0m in \u001b[0;36mget_handle\u001b[0;34m(path_or_buf, mode, encoding, compression, memory_map, is_text, errors, storage_options)\u001b[0m\n\u001b[1;32m    857\u001b[0m         \u001b[0;32mif\u001b[0m \u001b[0mioargs\u001b[0m\u001b[0;34m.\u001b[0m\u001b[0mencoding\u001b[0m \u001b[0;32mand\u001b[0m \u001b[0;34m\"b\"\u001b[0m \u001b[0;32mnot\u001b[0m \u001b[0;32min\u001b[0m \u001b[0mioargs\u001b[0m\u001b[0;34m.\u001b[0m\u001b[0mmode\u001b[0m\u001b[0;34m:\u001b[0m\u001b[0;34m\u001b[0m\u001b[0;34m\u001b[0m\u001b[0m\n\u001b[1;32m    858\u001b[0m             \u001b[0;31m# Encoding\u001b[0m\u001b[0;34m\u001b[0m\u001b[0;34m\u001b[0m\u001b[0m\n\u001b[0;32m--> 859\u001b[0;31m             handle = open(\n\u001b[0m\u001b[1;32m    860\u001b[0m                 \u001b[0mhandle\u001b[0m\u001b[0;34m,\u001b[0m\u001b[0;34m\u001b[0m\u001b[0;34m\u001b[0m\u001b[0m\n\u001b[1;32m    861\u001b[0m                 \u001b[0mioargs\u001b[0m\u001b[0;34m.\u001b[0m\u001b[0mmode\u001b[0m\u001b[0;34m,\u001b[0m\u001b[0;34m\u001b[0m\u001b[0;34m\u001b[0m\u001b[0m\n",
            "\u001b[0;31mFileNotFoundError\u001b[0m: [Errno 2] No such file or directory: '/content/diabetes.csv'"
          ]
        }
      ],
      "source": [
        "import pandas as pd\n",
        "data1=pd.read_csv(\"/content/diabetes.csv\")\n",
        "data1"
      ]
    },
    {
      "cell_type": "code",
      "source": [
        "#Separamos las variables predictoras de la variable de clasificación\n",
        "v_numericas=data1.select_dtypes([\"float64\",\"int64\"]).drop([\"Outcome\"],axis=1)\n",
        "v_numericas=list(v_numericas)\n",
        "v_numericas"
      ],
      "metadata": {
        "colab": {
          "base_uri": "https://localhost:8080/"
        },
        "id": "fIpATjMT-PE5",
        "outputId": "86c60795-3194-48a5-c64b-9d3bb16cc961"
      },
      "execution_count": null,
      "outputs": [
        {
          "output_type": "execute_result",
          "data": {
            "text/plain": [
              "['Pregnancies',\n",
              " 'Glucose',\n",
              " 'BloodPressure',\n",
              " 'SkinThickness',\n",
              " 'Insulin',\n",
              " 'BMI',\n",
              " 'DiabetesPedigreeFunction',\n",
              " 'Age']"
            ]
          },
          "metadata": {},
          "execution_count": 19
        }
      ]
    },
    {
      "cell_type": "code",
      "source": [
        "#Almacenamos en un objeto las variables predictoras y la de clasificación\n",
        "X=data1[v_numericas]\n",
        "y=data1[\"Outcome\"]"
      ],
      "metadata": {
        "id": "gs2YqNBWAI2z"
      },
      "execution_count": null,
      "outputs": []
    },
    {
      "cell_type": "code",
      "source": [
        "#Tomamos 80% de los datos para entrenamiento y 20% para prueba\n",
        "from sklearn.model_selection import train_test_split\n",
        "X_train,X_test,y_train,y_test=train_test_split(X,y,test_size=0.2,random_state=0)"
      ],
      "metadata": {
        "id": "jHIwKX72AwyJ"
      },
      "execution_count": null,
      "outputs": []
    },
    {
      "cell_type": "code",
      "source": [
        "#Estandarizamos datos\n",
        "from sklearn.preprocessing import StandardScaler\n",
        "data_estand=StandardScaler()\n",
        "X_train=data_estand.fit_transform(X_train)\n",
        "X_test=data_estand.transform(X_test)"
      ],
      "metadata": {
        "id": "90UuyoyQCc-2"
      },
      "execution_count": null,
      "outputs": []
    },
    {
      "cell_type": "code",
      "source": [
        "#Ajuste de hiperparámetros con validación cruzada para el modelo SVM\n",
        "from sklearn.svm import SVC\n",
        "from sklearn.model_selection import GridSearchCV, StratifiedKFold\n",
        "import numpy as np\n"
      ],
      "metadata": {
        "id": "gq4tR380DoJE"
      },
      "execution_count": null,
      "outputs": []
    },
    {
      "cell_type": "code",
      "source": [
        "param_grid={\"C\":np.array([1,2,5]),\"gamma\":np.array([\"scale\",\"auto\"])}\n",
        "kfold=StratifiedKFold(n_splits=4)\n",
        "grid=GridSearchCV(estimator=SVC(),param_grid=param_grid,\n",
        "                  scoring=\"accuracy\",cv=kfold)\n",
        "grid_result=grid.fit(X_train,y_train)\n",
        "grid_result.best_params_\n"
      ],
      "metadata": {
        "colab": {
          "base_uri": "https://localhost:8080/"
        },
        "id": "Al14RzmVDqji",
        "outputId": "18efd044-fea6-40b2-b8b7-f8fcf9cd6450"
      },
      "execution_count": null,
      "outputs": [
        {
          "output_type": "execute_result",
          "data": {
            "text/plain": [
              "{'C': 2, 'gamma': 'auto'}"
            ]
          },
          "metadata": {},
          "execution_count": 37
        }
      ]
    },
    {
      "cell_type": "code",
      "source": [
        "#Importamos todas las funcionesnecesarias para entrenar diferentes modelos\n",
        "from sklearn.neighbors import KNeighborsClassifier\n",
        "from sklearn.linear_model import LogisticRegression\n",
        "from sklearn.tree import DecisionTreeClassifier\n",
        "from sklearn.ensemble import RandomForestClassifier\n",
        "from sklearn.naive_bayes import GaussianNB\n",
        "from sklearn.ensemble import (VotingClassifier,BaggingClassifier,\n",
        "                              AdaBoostClassifier,StackingClassifier)"
      ],
      "metadata": {
        "id": "coAR_DFAFuZl"
      },
      "execution_count": null,
      "outputs": []
    },
    {
      "cell_type": "code",
      "source": [
        "#Almacenamos los modelos dentro de una lista\n",
        "modelos=[]\n",
        "modelos.append((\"SVC\",SVC(C=2,gamma=\"auto\")))\n",
        "modelos.append((\"k-NN\",KNeighborsClassifier(n_neighbors=20)))\n",
        "modelos.append((\"RL\",LogisticRegression()))\n",
        "modelos.append((\"DTC\",DecisionTreeClassifier()))\n",
        "modelos.append((\"RFC\",RandomForestClassifier(n_estimators=1000)))\n",
        "modelos.append((\"NB\",GaussianNB()))\n",
        "estimators=modelos[0:5]\n",
        "modelos.append((\"Voting\",VotingClassifier(estimators=estimators,voting=\"hard\")))\n",
        "modelos.append((\"Bagging\",BaggingClassifier(n_estimators=1000)))\n",
        "modelos.append((\"Boosting\",AdaBoostClassifier(n_estimators=500,learning_rate=1)))\n",
        "modelos.append((\"Stacking\",StackingClassifier(estimators=estimators,\n",
        "                                              final_estimator=LogisticRegression())))\n",
        "modelos"
      ],
      "metadata": {
        "colab": {
          "base_uri": "https://localhost:8080/"
        },
        "id": "Lz8f64MyHy9k",
        "outputId": "c7b6e46e-a76f-4a1f-a9bd-e7927f57dde2"
      },
      "execution_count": null,
      "outputs": [
        {
          "output_type": "execute_result",
          "data": {
            "text/plain": [
              "[('SVC', SVC(C=2, gamma='auto')),\n",
              " ('k-NN', KNeighborsClassifier(n_neighbors=20)),\n",
              " ('RL', LogisticRegression()),\n",
              " ('DTC', DecisionTreeClassifier()),\n",
              " ('RFC', RandomForestClassifier(n_estimators=1000)),\n",
              " ('NB', GaussianNB()),\n",
              " ('Voting',\n",
              "  VotingClassifier(estimators=[('SVC', SVC(C=2, gamma='auto')),\n",
              "                               ('k-NN', KNeighborsClassifier(n_neighbors=20)),\n",
              "                               ('RL', LogisticRegression()),\n",
              "                               ('DTC', DecisionTreeClassifier()),\n",
              "                               ('RFC',\n",
              "                                RandomForestClassifier(n_estimators=1000))])),\n",
              " ('Bagging', BaggingClassifier(n_estimators=1000)),\n",
              " ('Boosting', AdaBoostClassifier(learning_rate=1, n_estimators=500)),\n",
              " ('Stacking',\n",
              "  StackingClassifier(estimators=[('SVC', SVC(C=2, gamma='auto')),\n",
              "                                 ('k-NN', KNeighborsClassifier(n_neighbors=20)),\n",
              "                                 ('RL', LogisticRegression()),\n",
              "                                 ('DTC', DecisionTreeClassifier()),\n",
              "                                 ('RFC',\n",
              "                                  RandomForestClassifier(n_estimators=1000))],\n",
              "                     final_estimator=LogisticRegression()))]"
            ]
          },
          "metadata": {},
          "execution_count": 39
        }
      ]
    },
    {
      "cell_type": "code",
      "source": [
        "#Aplicaremos validación cruzada para cada modelo en el entrenamiento\n",
        "#Calculamos sus métricas\n",
        "from sklearn.model_selection import cross_val_score, KFold\n",
        "from sklearn.metrics import classification_report, accuracy_score\n",
        "resultados1=[]\n",
        "nombres=[]\n",
        "for nombre, modelo in modelos:\n",
        "  print(f\"\\n Empezando a entrenar el modelo {nombre}...\\n\")\n",
        "  kFold=KFold(n_splits=5)\n",
        "  cv_resultados=cross_val_score(modelo,X_train,y_train,cv=kfold,scoring=\"accuracy\")\n",
        "  modelo.fit(X_train,y_train)\n",
        "  resultados1.append(cv_resultados)\n",
        "  nombres.append(nombre)\n",
        "  msg=\" %s: %f (%f)\" % (nombre,cv_resultados.mean(),cv_resultados.std())\n",
        "  print(f\"######Reporte de clasificación para {modelo} #########\")\n",
        "  y_pred=modelo.predict(X_test)\n",
        "  print(classification_report(y_test,y_pred))\n",
        "  print(msg)\n",
        "  print(f\"Accuracy: {accuracy_score(y_test,y_pred)}\")"
      ],
      "metadata": {
        "colab": {
          "base_uri": "https://localhost:8080/"
        },
        "id": "piRfbfpaJfme",
        "outputId": "2d7371a6-9abf-4d46-e2a7-3e7358b2fe9e"
      },
      "execution_count": null,
      "outputs": [
        {
          "output_type": "stream",
          "name": "stdout",
          "text": [
            "\n",
            " Empezando a entrenar el modelo SVC...\n",
            "\n",
            "######Reporte de clasificación para SVC(C=2, gamma='auto') #########\n",
            "              precision    recall  f1-score   support\n",
            "\n",
            "           0       0.82      0.89      0.85       107\n",
            "           1       0.68      0.55      0.61        47\n",
            "\n",
            "    accuracy                           0.79       154\n",
            "   macro avg       0.75      0.72      0.73       154\n",
            "weighted avg       0.78      0.79      0.78       154\n",
            "\n",
            " SVC: 0.745957 (0.014735)\n",
            "Accuracy: 0.7857142857142857\n",
            "\n",
            " Empezando a entrenar el modelo k-NN...\n",
            "\n",
            "######Reporte de clasificación para KNeighborsClassifier(n_neighbors=20) #########\n",
            "              precision    recall  f1-score   support\n",
            "\n",
            "           0       0.81      0.92      0.86       107\n",
            "           1       0.73      0.51      0.60        47\n",
            "\n",
            "    accuracy                           0.79       154\n",
            "   macro avg       0.77      0.71      0.73       154\n",
            "weighted avg       0.78      0.79      0.78       154\n",
            "\n",
            " k-NN: 0.742721 (0.017972)\n",
            "Accuracy: 0.7922077922077922\n",
            "\n",
            " Empezando a entrenar el modelo RL...\n",
            "\n",
            "######Reporte de clasificación para LogisticRegression() #########\n",
            "              precision    recall  f1-score   support\n",
            "\n",
            "           0       0.84      0.92      0.88       107\n",
            "           1       0.76      0.62      0.68        47\n",
            "\n",
            "    accuracy                           0.82       154\n",
            "   macro avg       0.80      0.77      0.78       154\n",
            "weighted avg       0.82      0.82      0.82       154\n",
            "\n",
            " RL: 0.755719 (0.013095)\n",
            "Accuracy: 0.8246753246753247\n",
            "\n",
            " Empezando a entrenar el modelo DTC...\n",
            "\n",
            "######Reporte de clasificación para DecisionTreeClassifier() #########\n",
            "              precision    recall  f1-score   support\n",
            "\n",
            "           0       0.86      0.81      0.84       107\n",
            "           1       0.62      0.70      0.66        47\n",
            "\n",
            "    accuracy                           0.78       154\n",
            "   macro avg       0.74      0.76      0.75       154\n",
            "weighted avg       0.79      0.78      0.78       154\n",
            "\n",
            " DTC: 0.688906 (0.010195)\n",
            "Accuracy: 0.7792207792207793\n",
            "\n",
            " Empezando a entrenar el modelo RFC...\n",
            "\n",
            "######Reporte de clasificación para RandomForestClassifier(n_estimators=1000) #########\n",
            "              precision    recall  f1-score   support\n",
            "\n",
            "           0       0.86      0.88      0.87       107\n",
            "           1       0.71      0.68      0.70        47\n",
            "\n",
            "    accuracy                           0.82       154\n",
            "   macro avg       0.79      0.78      0.78       154\n",
            "weighted avg       0.82      0.82      0.82       154\n",
            "\n",
            " RFC: 0.755761 (0.025648)\n",
            "Accuracy: 0.8181818181818182\n",
            "\n",
            " Empezando a entrenar el modelo NB...\n",
            "\n",
            "######Reporte de clasificación para GaussianNB() #########\n",
            "              precision    recall  f1-score   support\n",
            "\n",
            "           0       0.84      0.87      0.85       107\n",
            "           1       0.67      0.62      0.64        47\n",
            "\n",
            "    accuracy                           0.79       154\n",
            "   macro avg       0.76      0.74      0.75       154\n",
            "weighted avg       0.79      0.79      0.79       154\n",
            "\n",
            " NB: 0.742721 (0.031022)\n",
            "Accuracy: 0.7922077922077922\n",
            "\n",
            " Empezando a entrenar el modelo Voting...\n",
            "\n",
            "######Reporte de clasificación para VotingClassifier(estimators=[('SVC', SVC(C=2, gamma='auto')),\n",
            "                             ('k-NN', KNeighborsClassifier(n_neighbors=20)),\n",
            "                             ('RL', LogisticRegression()),\n",
            "                             ('DTC', DecisionTreeClassifier()),\n",
            "                             ('RFC',\n",
            "                              RandomForestClassifier(n_estimators=1000))]) #########\n",
            "              precision    recall  f1-score   support\n",
            "\n",
            "           0       0.85      0.93      0.88       107\n",
            "           1       0.78      0.62      0.69        47\n",
            "\n",
            "    accuracy                           0.83       154\n",
            "   macro avg       0.81      0.77      0.79       154\n",
            "weighted avg       0.83      0.83      0.82       154\n",
            "\n",
            " Voting: 0.758998 (0.026426)\n",
            "Accuracy: 0.8311688311688312\n",
            "\n",
            " Empezando a entrenar el modelo Bagging...\n",
            "\n",
            "######Reporte de clasificación para BaggingClassifier(n_estimators=1000) #########\n",
            "              precision    recall  f1-score   support\n",
            "\n",
            "           0       0.88      0.86      0.87       107\n",
            "           1       0.70      0.74      0.72        47\n",
            "\n",
            "    accuracy                           0.82       154\n",
            "   macro avg       0.79      0.80      0.80       154\n",
            "weighted avg       0.83      0.82      0.83       154\n",
            "\n",
            " Bagging: 0.737809 (0.019921)\n",
            "Accuracy: 0.8246753246753247\n",
            "\n",
            " Empezando a entrenar el modelo Boosting...\n",
            "\n",
            "######Reporte de clasificación para AdaBoostClassifier(learning_rate=1, n_estimators=500) #########\n",
            "              precision    recall  f1-score   support\n",
            "\n",
            "           0       0.91      0.80      0.85       107\n",
            "           1       0.64      0.81      0.72        47\n",
            "\n",
            "    accuracy                           0.81       154\n",
            "   macro avg       0.77      0.81      0.78       154\n",
            "weighted avg       0.83      0.81      0.81       154\n",
            "\n",
            " Boosting: 0.684004 (0.021803)\n",
            "Accuracy: 0.8051948051948052\n",
            "\n",
            " Empezando a entrenar el modelo Stacking...\n",
            "\n",
            "######Reporte de clasificación para StackingClassifier(estimators=[('SVC', SVC(C=2, gamma='auto')),\n",
            "                               ('k-NN', KNeighborsClassifier(n_neighbors=20)),\n",
            "                               ('RL', LogisticRegression()),\n",
            "                               ('DTC', DecisionTreeClassifier()),\n",
            "                               ('RFC',\n",
            "                                RandomForestClassifier(n_estimators=1000))],\n",
            "                   final_estimator=LogisticRegression()) #########\n",
            "              precision    recall  f1-score   support\n",
            "\n",
            "           0       0.83      0.89      0.86       107\n",
            "           1       0.70      0.60      0.64        47\n",
            "\n",
            "    accuracy                           0.80       154\n",
            "   macro avg       0.77      0.74      0.75       154\n",
            "weighted avg       0.79      0.80      0.79       154\n",
            "\n",
            " Stacking: 0.742658 (0.014371)\n",
            "Accuracy: 0.7987012987012987\n"
          ]
        }
      ]
    },
    {
      "cell_type": "code",
      "source": [
        "import matplotlib.pyplot as plt\n",
        "fig=plt.figure(figsize=(10,10))\n",
        "fig.suptitle(\"Comparación del acierto de algoritmos para clasificación\")\n",
        "ax=fig.add_subplot(111)\n",
        "plt.boxplot(resultados1)\n",
        "ax.set_xticklabels(nombres)\n",
        "ax.set_ylabel(\"Porcentaje de aciertos de clasificación\")\n",
        "plt.show()"
      ],
      "metadata": {
        "colab": {
          "base_uri": "https://localhost:8080/",
          "height": 919
        },
        "id": "shiyivVYOiP-",
        "outputId": "cf606653-d0c8-4b97-8b92-682e16fe1181"
      },
      "execution_count": null,
      "outputs": [
        {
          "output_type": "display_data",
          "data": {
            "text/plain": [
              "<Figure size 1000x1000 with 1 Axes>"
            ],
            "image/png": "[encoded data removed]"
          },
          "metadata": {}
        }
      ]
    },
    {
      "cell_type": "code",
      "source": [],
      "metadata": {
        "id": "d4osb9kySek_"
      },
      "execution_count": null,
      "outputs": []
    },
    {
      "cell_type": "markdown",
      "source": [
        "# **ENSAMBLE CON DIFERENTES MODELOS DE REGRESIÓN**"
      ],
      "metadata": {
        "id": "5inRieF3Sx-I"
      }
    },
    {
      "cell_type": "code",
      "source": [
        "#Leyendo el dataset\n",
        "data2=pd.read_csv(\"/content/Advertising.csv\")\n",
        "data2"
      ],
      "metadata": {
        "colab": {
          "base_uri": "https://localhost:8080/",
          "height": 424
        },
        "id": "7c4V6JDVS4LQ",
        "outputId": "9d137f83-e5c7-42e8-c567-9945b63c3842"
      },
      "execution_count": 3,
      "outputs": [
        {
          "output_type": "execute_result",
          "data": {
            "text/plain": [
              "        TV  Radio  Newspaper  Sales\n",
              "0    230.1   37.8       69.2   22.1\n",
              "1     44.5   39.3       45.1   10.4\n",
              "2     17.2   45.9       69.3    9.3\n",
              "3    151.5   41.3       58.5   18.5\n",
              "4    180.8   10.8       58.4   12.9\n",
              "..     ...    ...        ...    ...\n",
              "195   38.2    3.7       13.8    7.6\n",
              "196   94.2    4.9        8.1    9.7\n",
              "197  177.0    9.3        6.4   12.8\n",
              "198  283.6   42.0       66.2   25.5\n",
              "199  232.1    8.6        8.7   13.4\n",
              "\n",
              "[200 rows x 4 columns]"
            ],
            "text/html": [
              "\n",
              "  <div id=\"df-e1c85e25-a36a-4e72-87ec-6cf55fe4dcf9\" class=\"colab-df-container\">\n",
              "    <div>\n",
              "<style scoped>\n",
              "    .dataframe tbody tr th:only-of-type {\n",
              "        vertical-align: middle;\n",
              "    }\n",
              "\n",
              "    .dataframe tbody tr th {\n",
              "        vertical-align: top;\n",
              "    }\n",
              "\n",
              "    .dataframe thead th {\n",
              "        text-align: right;\n",
              "    }\n",
              "</style>\n",
              "<table border=\"1\" class=\"dataframe\">\n",
              "  <thead>\n",
              "    <tr style=\"text-align: right;\">\n",
              "      <th></th>\n",
              "      <th>TV</th>\n",
              "      <th>Radio</th>\n",
              "      <th>Newspaper</th>\n",
              "      <th>Sales</th>\n",
              "    </tr>\n",
              "  </thead>\n",
              "  <tbody>\n",
              "    <tr>\n",
              "      <th>0</th>\n",
              "      <td>230.1</td>\n",
              "      <td>37.8</td>\n",
              "      <td>69.2</td>\n",
              "      <td>22.1</td>\n",
              "    </tr>\n",
              "    <tr>\n",
              "      <th>1</th>\n",
              "      <td>44.5</td>\n",
              "      <td>39.3</td>\n",
              "      <td>45.1</td>\n",
              "      <td>10.4</td>\n",
              "    </tr>\n",
              "    <tr>\n",
              "      <th>2</th>\n",
              "      <td>17.2</td>\n",
              "      <td>45.9</td>\n",
              "      <td>69.3</td>\n",
              "      <td>9.3</td>\n",
              "    </tr>\n",
              "    <tr>\n",
              "      <th>3</th>\n",
              "      <td>151.5</td>\n",
              "      <td>41.3</td>\n",
              "      <td>58.5</td>\n",
              "      <td>18.5</td>\n",
              "    </tr>\n",
              "    <tr>\n",
              "      <th>4</th>\n",
              "      <td>180.8</td>\n",
              "      <td>10.8</td>\n",
              "      <td>58.4</td>\n",
              "      <td>12.9</td>\n",
              "    </tr>\n",
              "    <tr>\n",
              "      <th>...</th>\n",
              "      <td>...</td>\n",
              "      <td>...</td>\n",
              "      <td>...</td>\n",
              "      <td>...</td>\n",
              "    </tr>\n",
              "    <tr>\n",
              "      <th>195</th>\n",
              "      <td>38.2</td>\n",
              "      <td>3.7</td>\n",
              "      <td>13.8</td>\n",
              "      <td>7.6</td>\n",
              "    </tr>\n",
              "    <tr>\n",
              "      <th>196</th>\n",
              "      <td>94.2</td>\n",
              "      <td>4.9</td>\n",
              "      <td>8.1</td>\n",
              "      <td>9.7</td>\n",
              "    </tr>\n",
              "    <tr>\n",
              "      <th>197</th>\n",
              "      <td>177.0</td>\n",
              "      <td>9.3</td>\n",
              "      <td>6.4</td>\n",
              "      <td>12.8</td>\n",
              "    </tr>\n",
              "    <tr>\n",
              "      <th>198</th>\n",
              "      <td>283.6</td>\n",
              "      <td>42.0</td>\n",
              "      <td>66.2</td>\n",
              "      <td>25.5</td>\n",
              "    </tr>\n",
              "    <tr>\n",
              "      <th>199</th>\n",
              "      <td>232.1</td>\n",
              "      <td>8.6</td>\n",
              "      <td>8.7</td>\n",
              "      <td>13.4</td>\n",
              "    </tr>\n",
              "  </tbody>\n",
              "</table>\n",
              "<p>200 rows × 4 columns</p>\n",
              "</div>\n",
              "    <div class=\"colab-df-buttons\">\n",
              "\n",
              "  <div class=\"colab-df-container\">\n",
              "    <button class=\"colab-df-convert\" onclick=\"convertToInteractive('df-e1c85e25-a36a-4e72-87ec-6cf55fe4dcf9')\"\n",
              "            title=\"Convert this dataframe to an interactive table.\"\n",
              "            style=\"display:none;\">\n",
              "\n",
              "  <svg xmlns=\"http://www.w3.org/2000/svg\" height=\"24px\" viewBox=\"0 -960 960 960\">\n",
              "    <path d=\"M120-120v-720h720v720H120Zm60-500h600v-160H180v160Zm220 220h160v-160H400v160Zm0 220h160v-160H400v160ZM180-400h160v-160H180v160Zm440 0h160v-160H620v160ZM180-180h160v-160H180v160Zm440 0h160v-160H620v160Z\"/>\n",
              "  </svg>\n",
              "    </button>\n",
              "\n",
              "  <style>\n",
              "    .colab-df-container {\n",
              "      display:flex;\n",
              "      gap: 12px;\n",
              "    }\n",
              "\n",
              "    .colab-df-convert {\n",
              "      background-color: #E8F0FE;\n",
              "      border: none;\n",
              "      border-radius: 50%;\n",
              "      cursor: pointer;\n",
              "      display: none;\n",
              "      fill: #1967D2;\n",
              "      height: 32px;\n",
              "      padding: 0 0 0 0;\n",
              "      width: 32px;\n",
              "    }\n",
              "\n",
              "    .colab-df-convert:hover {\n",
              "      background-color: #E2EBFA;\n",
              "      box-shadow: 0px 1px 2px rgba(60, 64, 67, 0.3), 0px 1px 3px 1px rgba(60, 64, 67, 0.15);\n",
              "      fill: #174EA6;\n",
              "    }\n",
              "\n",
              "    .colab-df-buttons div {\n",
              "      margin-bottom: 4px;\n",
              "    }\n",
              "\n",
              "    [theme=dark] .colab-df-convert {\n",
              "      background-color: #3B4455;\n",
              "      fill: #D2E3FC;\n",
              "    }\n",
              "\n",
              "    [theme=dark] .colab-df-convert:hover {\n",
              "      background-color: #434B5C;\n",
              "      box-shadow: 0px 1px 3px 1px rgba(0, 0, 0, 0.15);\n",
              "      filter: drop-shadow(0px 1px 2px rgba(0, 0, 0, 0.3));\n",
              "      fill: #FFFFFF;\n",
              "    }\n",
              "  </style>\n",
              "\n",
              "    <script>\n",
              "      const buttonEl =\n",
              "        document.querySelector('#df-e1c85e25-a36a-4e72-87ec-6cf55fe4dcf9 button.colab-df-convert');\n",
              "      buttonEl.style.display =\n",
              "        google.colab.kernel.accessAllowed ? 'block' : 'none';\n",
              "\n",
              "      async function convertToInteractive(key) {\n",
              "        const element = document.querySelector('#df-e1c85e25-a36a-4e72-87ec-6cf55fe4dcf9');\n",
              "        const dataTable =\n",
              "          await google.colab.kernel.invokeFunction('convertToInteractive',\n",
              "                                                    [key], {});\n",
              "        if (!dataTable) return;\n",
              "\n",
              "        const docLinkHtml = 'Like what you see? Visit the ' +\n",
              "          '<a target=\"_blank\" href=https://colab.research.google.com/notebooks/data_table.ipynb>data table notebook</a>'\n",
              "          + ' to learn more about interactive tables.';\n",
              "        element.innerHTML = '';\n",
              "        dataTable['output_type'] = 'display_data';\n",
              "        await google.colab.output.renderOutput(dataTable, element);\n",
              "        const docLink = document.createElement('div');\n",
              "        docLink.innerHTML = docLinkHtml;\n",
              "        element.appendChild(docLink);\n",
              "      }\n",
              "    </script>\n",
              "  </div>\n",
              "\n",
              "\n",
              "<div id=\"df-1834507d-f88c-4575-88a8-64ac5714c077\">\n",
              "  <button class=\"colab-df-quickchart\" onclick=\"quickchart('df-1834507d-f88c-4575-88a8-64ac5714c077')\"\n",
              "            title=\"Suggest charts\"\n",
              "            style=\"display:none;\">\n",
              "\n",
              "<svg xmlns=\"http://www.w3.org/2000/svg\" height=\"24px\"viewBox=\"0 0 24 24\"\n",
              "     width=\"24px\">\n",
              "    <g>\n",
              "        <path d=\"M19 3H5c-1.1 0-2 .9-2 2v14c0 1.1.9 2 2 2h14c1.1 0 2-.9 2-2V5c0-1.1-.9-2-2-2zM9 17H7v-7h2v7zm4 0h-2V7h2v10zm4 0h-2v-4h2v4z\"/>\n",
              "    </g>\n",
              "</svg>\n",
              "  </button>\n",
              "\n",
              "<style>\n",
              "  .colab-df-quickchart {\n",
              "      --bg-color: #E8F0FE;\n",
              "      --fill-color: #1967D2;\n",
              "      --hover-bg-color: #E2EBFA;\n",
              "      --hover-fill-color: #174EA6;\n",
              "      --disabled-fill-color: #AAA;\n",
              "      --disabled-bg-color: #DDD;\n",
              "  }\n",
              "\n",
              "  [theme=dark] .colab-df-quickchart {\n",
              "      --bg-color: #3B4455;\n",
              "      --fill-color: #D2E3FC;\n",
              "      --hover-bg-color: #434B5C;\n",
              "      --hover-fill-color: #FFFFFF;\n",
              "      --disabled-bg-color: #3B4455;\n",
              "      --disabled-fill-color: #666;\n",
              "  }\n",
              "\n",
              "  .colab-df-quickchart {\n",
              "    background-color: var(--bg-color);\n",
              "    border: none;\n",
              "    border-radius: 50%;\n",
              "    cursor: pointer;\n",
              "    display: none;\n",
              "    fill: var(--fill-color);\n",
              "    height: 32px;\n",
              "    padding: 0;\n",
              "    width: 32px;\n",
              "  }\n",
              "\n",
              "  .colab-df-quickchart:hover {\n",
              "    background-color: var(--hover-bg-color);\n",
              "    box-shadow: 0 1px 2px rgba(60, 64, 67, 0.3), 0 1px 3px 1px rgba(60, 64, 67, 0.15);\n",
              "    fill: var(--button-hover-fill-color);\n",
              "  }\n",
              "\n",
              "  .colab-df-quickchart-complete:disabled,\n",
              "  .colab-df-quickchart-complete:disabled:hover {\n",
              "    background-color: var(--disabled-bg-color);\n",
              "    fill: var(--disabled-fill-color);\n",
              "    box-shadow: none;\n",
              "  }\n",
              "\n",
              "  .colab-df-spinner {\n",
              "    border: 2px solid var(--fill-color);\n",
              "    border-color: transparent;\n",
              "    border-bottom-color: var(--fill-color);\n",
              "    animation:\n",
              "      spin 1s steps(1) infinite;\n",
              "  }\n",
              "\n",
              "  @keyframes spin {\n",
              "    0% {\n",
              "      border-color: transparent;\n",
              "      border-bottom-color: var(--fill-color);\n",
              "      border-left-color: var(--fill-color);\n",
              "    }\n",
              "    20% {\n",
              "      border-color: transparent;\n",
              "      border-left-color: var(--fill-color);\n",
              "      border-top-color: var(--fill-color);\n",
              "    }\n",
              "    30% {\n",
              "      border-color: transparent;\n",
              "      border-left-color: var(--fill-color);\n",
              "      border-top-color: var(--fill-color);\n",
              "      border-right-color: var(--fill-color);\n",
              "    }\n",
              "    40% {\n",
              "      border-color: transparent;\n",
              "      border-right-color: var(--fill-color);\n",
              "      border-top-color: var(--fill-color);\n",
              "    }\n",
              "    60% {\n",
              "      border-color: transparent;\n",
              "      border-right-color: var(--fill-color);\n",
              "    }\n",
              "    80% {\n",
              "      border-color: transparent;\n",
              "      border-right-color: var(--fill-color);\n",
              "      border-bottom-color: var(--fill-color);\n",
              "    }\n",
              "    90% {\n",
              "      border-color: transparent;\n",
              "      border-bottom-color: var(--fill-color);\n",
              "    }\n",
              "  }\n",
              "</style>\n",
              "\n",
              "  <script>\n",
              "    async function quickchart(key) {\n",
              "      const quickchartButtonEl =\n",
              "        document.querySelector('#' + key + ' button');\n",
              "      quickchartButtonEl.disabled = true;  // To prevent multiple clicks.\n",
              "      quickchartButtonEl.classList.add('colab-df-spinner');\n",
              "      try {\n",
              "        const charts = await google.colab.kernel.invokeFunction(\n",
              "            'suggestCharts', [key], {});\n",
              "      } catch (error) {\n",
              "        console.error('Error during call to suggestCharts:', error);\n",
              "      }\n",
              "      quickchartButtonEl.classList.remove('colab-df-spinner');\n",
              "      quickchartButtonEl.classList.add('colab-df-quickchart-complete');\n",
              "    }\n",
              "    (() => {\n",
              "      let quickchartButtonEl =\n",
              "        document.querySelector('#df-1834507d-f88c-4575-88a8-64ac5714c077 button');\n",
              "      quickchartButtonEl.style.display =\n",
              "        google.colab.kernel.accessAllowed ? 'block' : 'none';\n",
              "    })();\n",
              "  </script>\n",
              "</div>\n",
              "    </div>\n",
              "  </div>\n"
            ],
            "application/vnd.google.colaboratory.intrinsic+json": {
              "type": "dataframe",
              "variable_name": "data2",
              "summary": "{\n  \"name\": \"data2\",\n  \"rows\": 200,\n  \"fields\": [\n    {\n      \"column\": \"TV\",\n      \"properties\": {\n        \"dtype\": \"number\",\n        \"std\": 85.85423631490808,\n        \"min\": 0.7,\n        \"max\": 296.4,\n        \"num_unique_values\": 190,\n        \"samples\": [\n          287.6,\n          286.0,\n          78.2\n        ],\n        \"semantic_type\": \"\",\n        \"description\": \"\"\n      }\n    },\n    {\n      \"column\": \"Radio\",\n      \"properties\": {\n        \"dtype\": \"number\",\n        \"std\": 14.846809176168724,\n        \"min\": 0.0,\n        \"max\": 49.6,\n        \"num_unique_values\": 167,\n        \"samples\": [\n          8.2,\n          36.9,\n          44.5\n        ],\n        \"semantic_type\": \"\",\n        \"description\": \"\"\n      }\n    },\n    {\n      \"column\": \"Newspaper\",\n      \"properties\": {\n        \"dtype\": \"number\",\n        \"std\": 21.778620838522826,\n        \"min\": 0.3,\n        \"max\": 114.0,\n        \"num_unique_values\": 172,\n        \"samples\": [\n          22.3,\n          5.7,\n          17.0\n        ],\n        \"semantic_type\": \"\",\n        \"description\": \"\"\n      }\n    },\n    {\n      \"column\": \"Sales\",\n      \"properties\": {\n        \"dtype\": \"number\",\n        \"std\": 5.217456565710478,\n        \"min\": 1.6,\n        \"max\": 27.0,\n        \"num_unique_values\": 121,\n        \"samples\": [\n          11.4,\n          21.2,\n          12.9\n        ],\n        \"semantic_type\": \"\",\n        \"description\": \"\"\n      }\n    }\n  ]\n}"
            }
          },
          "metadata": {},
          "execution_count": 3
        }
      ]
    },
    {
      "cell_type": "code",
      "source": [
        "#Separando variables independiente de la dependiente\n",
        "X=data2[[\"TV\",\"Radio\",\"Newspaper\"]]\n",
        "y=data2[\"Sales\"]"
      ],
      "metadata": {
        "id": "FQCQyXJFT6Pk"
      },
      "execution_count": 4,
      "outputs": []
    },
    {
      "cell_type": "code",
      "source": [
        "from sklearn.model_selection import train_test_split\n",
        "X_train,X_test,y_train,y_test=train_test_split(X,y,test_size=0.2,random_state=0)"
      ],
      "metadata": {
        "id": "2ZUPyscDUwDd"
      },
      "execution_count": 5,
      "outputs": []
    },
    {
      "cell_type": "code",
      "source": [],
      "metadata": {
        "colab": {
          "base_uri": "https://localhost:8080/"
        },
        "id": "B4nn1nGnlMkb",
        "outputId": "23f84cb8-fadb-4bb4-873a-6e1521289f81"
      },
      "execution_count": null,
      "outputs": [
        {
          "output_type": "execute_result",
          "data": {
            "text/plain": [
              "0      22.1\n",
              "1      10.4\n",
              "2       9.3\n",
              "3      18.5\n",
              "4      12.9\n",
              "       ... \n",
              "195     7.6\n",
              "196     9.7\n",
              "197    12.8\n",
              "198    25.5\n",
              "199    13.4\n",
              "Name: Sales, Length: 200, dtype: float64"
            ]
          },
          "metadata": {},
          "execution_count": 47
        }
      ]
    },
    {
      "cell_type": "code",
      "source": [
        "#Importamos todas las funcionesnecesarias para entrenar diferentes modelos\n",
        "from sklearn.svm import SVR\n",
        "from sklearn.linear_model import LinearRegression\n",
        "from sklearn.tree import DecisionTreeRegressor\n",
        "from sklearn.ensemble import RandomForestRegressor\n",
        "from sklearn.ensemble import (VotingRegressor,BaggingRegressor,\n",
        "                              AdaBoostRegressor,StackingRegressor)\n"
      ],
      "metadata": {
        "id": "UPowAQyMlMxG"
      },
      "execution_count": 9,
      "outputs": []
    },
    {
      "cell_type": "code",
      "source": [
        "#Almacenamos todos los modelos en una lista\n",
        "modelos=[]\n",
        "modelos.append((\"SVR\",SVR(C=1,gamma=\"scale\")))\n",
        "modelos.append((\"Regresión Lineal\",LinearRegression()))\n",
        "modelos.append((\"DTR\",DecisionTreeRegressor()))\n",
        "modelos.append((\"RFR\",RandomForestRegressor(n_estimators=7000)))\n",
        "estimators=modelos[0:4]\n",
        "modelos.append((\"Voting\",VotingRegressor(estimators=estimators)))\n",
        "modelos.append((\"Bagging\",BaggingRegressor(n_estimators=750)))\n",
        "modelos.append((\"Boosting\",AdaBoostRegressor(n_estimators=500,learning_rate=1,random_state=123)))\n",
        "modelos.append((\"Stacking\",StackingRegressor(estimators=estimators,n_jobs=-1)))\n",
        "modelos"
      ],
      "metadata": {
        "id": "APoa4x-On_j7",
        "colab": {
          "base_uri": "https://localhost:8080/"
        },
        "outputId": "77db7b85-f7d4-4ec4-d294-1b806d2c41de"
      },
      "execution_count": 10,
      "outputs": [
        {
          "output_type": "execute_result",
          "data": {
            "text/plain": [
              "[('SVR', SVR(C=1)),\n",
              " ('Regresión Lineal', LinearRegression()),\n",
              " ('DTR', DecisionTreeRegressor()),\n",
              " ('RFR', RandomForestRegressor(n_estimators=7000)),\n",
              " ('Voting',\n",
              "  VotingRegressor(estimators=[('SVR', SVR(C=1)),\n",
              "                              ('Regresión Lineal', LinearRegression()),\n",
              "                              ('DTR', DecisionTreeRegressor()),\n",
              "                              ('RFR', RandomForestRegressor(n_estimators=7000))])),\n",
              " ('Bagging', BaggingRegressor(n_estimators=750)),\n",
              " ('Boosting',\n",
              "  AdaBoostRegressor(learning_rate=1, n_estimators=500, random_state=123)),\n",
              " ('Stacking',\n",
              "  StackingRegressor(estimators=[('SVR', SVR(C=1)),\n",
              "                                ('Regresión Lineal', LinearRegression()),\n",
              "                                ('DTR', DecisionTreeRegressor()),\n",
              "                                ('RFR',\n",
              "                                 RandomForestRegressor(n_estimators=7000))],\n",
              "                    n_jobs=-1))]"
            ]
          },
          "metadata": {},
          "execution_count": 10
        }
      ]
    },
    {
      "cell_type": "code",
      "source": [
        "# CReamos un diccionario con las métricas que evaluaremos\n",
        "scoring={\"mean_squared_error\":\"neg_mean_squared_error\",\n",
        "         \"neg_root_mean_squared_error\":\"neg_root_mean_squared_error\",\n",
        "         \"mean_absolute_error\":\"neg_mean_absolute_error\", \"r2\":\"r2\"}\n",
        "scoring"
      ],
      "metadata": {
        "colab": {
          "base_uri": "https://localhost:8080/"
        },
        "id": "uVeJ9nA9AVLi",
        "outputId": "bc134aea-1950-4bf0-a537-c490f37f0173"
      },
      "execution_count": 11,
      "outputs": [
        {
          "output_type": "execute_result",
          "data": {
            "text/plain": [
              "{'mean_squared_error': 'neg_mean_squared_error',\n",
              " 'neg_root_mean_squared_error': 'neg_root_mean_squared_error',\n",
              " 'mean_absolute_error': 'neg_mean_absolute_error',\n",
              " 'r2': 'r2'}"
            ]
          },
          "metadata": {},
          "execution_count": 11
        }
      ]
    },
    {
      "cell_type": "code",
      "source": [
        "#Aplicamos validación cruzada y calculamos las métricas de desempeño\n",
        "from sklearn.model_selection import cross_validate\n",
        "resultados2=[]\n",
        "nombres=[]\n",
        "for nombre, modelo in modelos:\n",
        "  print(f\"\\nEmpezando a entrenar el modelo {nombre}...\\n\")\n",
        "  cv_resultados=cross_validate(modelo,X_train, y_train,cv=7,\n",
        "                               scoring=scoring, n_jobs=-1)\n",
        "  print(f\" Error cuadrático medio: {str(-cv_resultados['test_mean_squared_error'].mean())}\")\n",
        "  print(f\" Raíz del error cuadrático medio: {str(-cv_resultados['test_neg_root_mean_squared_error'].mean())}\")\n",
        "  print(f\" Error absoluto medio: {str(-cv_resultados['test_mean_absolute_error'].mean())}\")\n",
        "  print(f\" Coeficiente de determinación: {str(cv_resultados['test_r2'].mean())}\")\n",
        "  resultados2.append(cv_resultados)"
      ],
      "metadata": {
        "colab": {
          "base_uri": "https://localhost:8080/"
        },
        "id": "Hoe8FkO1C7vs",
        "outputId": "f5849c57-9b0b-4e4f-b577-35e63d35d83d"
      },
      "execution_count": 16,
      "outputs": [
        {
          "output_type": "stream",
          "name": "stdout",
          "text": [
            "\n",
            "Empezando a entrenar el modelo SVR...\n",
            "\n",
            " Error cuadrático medio: 5.041165036623188\n",
            " Raíz del error cuadrático medio: 2.2184261201622\n",
            " Error absoluto medio: 1.6698792391340433\n",
            " Coeficiente de determinación: 0.8003888615069885\n",
            "\n",
            "Empezando a entrenar el modelo Regresión Lineal...\n",
            "\n",
            " Error cuadrático medio: 2.6298356536131533\n",
            " Raíz del error cuadrático medio: 1.5967078262939916\n",
            " Error absoluto medio: 1.2592672130731282\n",
            " Coeficiente de determinación: 0.8946558038233023\n",
            "\n",
            "Empezando a entrenar el modelo DTR...\n",
            "\n",
            " Error cuadrático medio: 1.545118577075099\n",
            " Raíz del error cuadrático medio: 1.2297230111020878\n",
            " Error absoluto medio: 0.9675042348955393\n",
            " Coeficiente de determinación: 0.9338540909765626\n",
            "\n",
            "Empezando a entrenar el modelo RFR...\n",
            "\n",
            " Error cuadrático medio: 0.6461107058580381\n",
            " Raíz del error cuadrático medio: 0.7985801207753497\n",
            " Error absoluto medio: 0.6371249052190227\n",
            " Coeficiente de determinación: 0.9730221295474311\n",
            "\n",
            "Empezando a entrenar el modelo Voting...\n",
            "\n",
            " Error cuadrático medio: 1.0686880512448453\n",
            " Raíz del error cuadrático medio: 1.0232917748718287\n",
            " Error absoluto medio: 0.7891837022062956\n",
            " Coeficiente de determinación: 0.9573977477649638\n",
            "\n",
            "Empezando a entrenar el modelo Bagging...\n",
            "\n",
            " Error cuadrático medio: 0.6497163634656997\n",
            " Raíz del error cuadrático medio: 0.8010899320297369\n",
            " Error absoluto medio: 0.635268737060032\n",
            " Coeficiente de determinación: 0.9729671367848809\n",
            "\n",
            "Empezando a entrenar el modelo Boosting...\n",
            "\n",
            " Error cuadrático medio: 0.9311774961353433\n",
            " Raíz del error cuadrático medio: 0.9617815253595313\n",
            " Error absoluto medio: 0.7815721581985626\n",
            " Coeficiente de determinación: 0.962698145206402\n",
            "\n",
            "Empezando a entrenar el modelo Stacking...\n",
            "\n",
            " Error cuadrático medio: 0.41051869225862486\n",
            " Raíz del error cuadrático medio: 0.6319565933889456\n",
            " Error absoluto medio: 0.5188343474370581\n",
            " Coeficiente de determinación: 0.9824867763972237\n"
          ]
        }
      ]
    }
  ]
}